{
  "nbformat": 4,
  "nbformat_minor": 0,
  "metadata": {
    "colab": {
      "provenance": []
    },
    "kernelspec": {
      "name": "python3",
      "display_name": "Python 3"
    },
    "language_info": {
      "name": "python"
    }
  },
  "cells": [
    {
      "cell_type": "code",
      "execution_count": null,
      "metadata": {
        "id": "f7YLCe4-e7n7"
      },
      "outputs": [],
      "source": [
        "import numpy as np\n",
        "import matplotlib.pyplot as plt\n",
        "import matplotlib.colors as mcolors\n",
        "\n",
        "def radial_gradient(size, center, radius, colors):\n",
        "    \"\"\"Generate a radial gradient image.\"\"\"\n",
        "    gradient = np.zeros((size[1], size[0], 3))\n",
        "\n",
        "    # Create coordinate grids\n",
        "    Y, X = np.indices((size[1], size[0]))\n",
        "\n",
        "    # Calculate the distance from the center\n",
        "    dist = np.sqrt((X - center[0])**2 + (Y - center[1])**2) / radius\n",
        "\n",
        "    # Create the gradient effect\n",
        "    for i, color in enumerate(colors):\n",
        "        mask = (dist >= i / len(colors)) & (dist < (i + 1) / len(colors))\n",
        "        gradient[mask] = mcolors.to_rgb(color)\n",
        "\n",
        "    return gradient\n",
        "\n",
        "def plot_gradient(gradient):\n",
        "    \"\"\"Plot the gradient using matplotlib.\"\"\"\n",
        "    plt.imshow(gradient, origin='upper')\n",
        "    plt.axis('off')\n",
        "    plt.show()\n",
        "\n",
        "# Parameters\n",
        "size = (500, 500)  # Image size (width, height)\n",
        "center = (size[0] // 2, size[1] // 2)  # Gradient center\n",
        "radius = size[0] // 2  # Radius of the gradient\n",
        "colors = ['#ff0000', '#ff9900', '#33cc33', '#3399ff', '#cc33ff']  # Colors in the gradient\n",
        "\n",
        "# Generate and plot the gradient\n",
        "gradient = radial_gradient(size, center, radius, colors)\n",
        "plot_gradient(gradient)\n"
      ]
    }
  ]
}